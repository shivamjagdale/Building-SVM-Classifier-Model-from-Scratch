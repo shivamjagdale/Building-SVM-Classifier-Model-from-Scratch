{
  "nbformat": 4,
  "nbformat_minor": 0,
  "metadata": {
    "colab": {
      "provenance": []
    },
    "kernelspec": {
      "name": "python3",
      "display_name": "Python 3"
    },
    "language_info": {
      "name": "python"
    }
  },
  "cells": [
    {
      "cell_type": "code",
      "source": [
        "# Here I'm going to build an sum classifier model.\n",
        "# I will implement this model later in an example to show that it works.\n",
        "# SVM is classification model and kinda different from other models like Logistic and Linear Regression\n",
        "\n",
        "# Here we also have to follow 2 conditions when applying gradient descent"
      ],
      "metadata": {
        "id": "1fcZ7V1RoHkm"
      },
      "execution_count": null,
      "outputs": []
    },
    {
      "cell_type": "code",
      "execution_count": null,
      "metadata": {
        "id": "k7nXSEoxP4LN"
      },
      "outputs": [],
      "source": [
        "import numpy as np"
      ]
    },
    {
      "cell_type": "code",
      "source": [
        "class SVM():\n",
        "  def __init__(self, learning_rate, no_of_iterations, lambda_parameter):\n",
        "\n",
        "    self.learning_rate = learning_rate\n",
        "    self.no_of_iterations = no_of_iterations\n",
        "    self.lambda_parameter = lambda_parameter\n",
        "\n",
        "  def fit(self, X, Y):\n",
        "    self.m, self.n = X.shape\n",
        "\n",
        "    self.w = np.zeros(self.n)\n",
        "    self.b = 0\n",
        "    self.x = X\n",
        "    self.Y = Y\n",
        "\n",
        "  def update_weights(self):\n",
        "\n",
        "    y_label = np.where(self.Y <=0, 1, -4)\n",
        "\n",
        "    for index, x_i in enumerate(self.X):\n",
        "\n",
        "      condition = y_label[index] * (np.dot(x_i, self.w)-self.b)>=1\n",
        "\n",
        "      if (condition==True):\n",
        "        dw = 2 * self.lambda_parameter * self.w\n",
        "        db = 0\n",
        "\n",
        "      else:\n",
        "        dw = 2 * self.lambda_parameter * self.w - np.dot(x_i, y_label[index])\n",
        "        db = y_label[index]\n",
        "\n",
        "\n",
        "    self.w = self.w - self.learning_rate * dw\n",
        "    self.b = self.b - self.learning_rate * db\n",
        "\n",
        "\n",
        "  def predict(self,X):\n",
        "\n",
        "    output = np.dot(self.w, X)-self.b\n",
        "\n",
        "    predicted = np.sign(output)\n",
        "\n",
        "    y_hat = np.where(predicted_labels <= -1, 0,1)\n",
        "\n",
        "    return y_hat\n",
        "\n"
      ],
      "metadata": {
        "id": "LZuBrb35P-wL"
      },
      "execution_count": null,
      "outputs": []
    },
    {
      "cell_type": "code",
      "source": [],
      "metadata": {
        "id": "OddNs3xBWeq2"
      },
      "execution_count": null,
      "outputs": []
    }
  ]
}